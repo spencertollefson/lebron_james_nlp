{
 "cells": [
  {
   "cell_type": "markdown",
   "metadata": {},
   "source": [
    "### Custom Count Vectorizer example"
   ]
  },
  {
   "cell_type": "code",
   "execution_count": 7,
   "metadata": {},
   "outputs": [],
   "source": [
    "import pandas as pd\n",
    "import numpy as np\n",
    "import re\n",
    "\n",
    "from sklearn.feature_extraction.text import CountVectorizer\n",
    "import nltk\n",
    "from nltk.tokenize import word_tokenize\n",
    "from nltk.stem import SnowballStemmer"
   ]
  },
  {
   "cell_type": "code",
   "execution_count": 50,
   "metadata": {},
   "outputs": [],
   "source": [
    "# some test text with contractions\n",
    "test_text = np.array([\"does, do, doing1234\",\n",
    "                      \"isn't doesn't weren't\"])"
   ]
  },
  {
   "cell_type": "code",
   "execution_count": 63,
   "metadata": {},
   "outputs": [],
   "source": [
    "# create a custom vectorizer class that inherits from base class\n",
    "# add a few more custom preprocessing and tokenization steps\n",
    "class CustomVectorizer(CountVectorizer):  \n",
    "    def build_analyzer(self):\n",
    "        stop_words = self.get_stop_words()\n",
    "        \n",
    "        def analyzer(doc):\n",
    "            \n",
    "            # preprocess: do any further cleaning here if needed\n",
    "            # example: remove everything but letters\n",
    "            cleaned_doc = re.sub(r\"[^A-Za-z]\", \" \", doc)\n",
    "            \n",
    "            # instantiate snowball stemmer\n",
    "            stemmer = SnowballStemmer(\"english\")\n",
    "            # create tokens\n",
    "            tokens = [stemmer.stem(d) for d in word_tokenize(cleaned_doc)] \n",
    "            \n",
    "            return(self._word_ngrams(tokens, stop_words))\n",
    "        return analyzer"
   ]
  },
  {
   "cell_type": "code",
   "execution_count": 61,
   "metadata": {},
   "outputs": [],
   "source": [
    "# create an instance of your custom vectorizer\n",
    "cVectorizer = CustomVectorizer(#strip_accents='ascii',\n",
    "                               #max_df=0.05,\n",
    "                               #min_df=3,\n",
    "                               stop_words = 'english'\n",
    "                               #ngram_range=(1,2)\n",
    "                              )\n",
    "\n",
    "# create document term matrix\n",
    "dtm = cVectorizer.fit_transform(test_text)\n",
    "tokens = cVectorizer.get_feature_names()"
   ]
  },
  {
   "cell_type": "code",
   "execution_count": 62,
   "metadata": {},
   "outputs": [
    {
     "name": "stdout",
     "output_type": "stream",
     "text": [
      "['doe', 'doesn', 'isn', 't', 'weren']\n"
     ]
    }
   ],
   "source": [
    "print(tokens)"
   ]
  },
  {
   "cell_type": "code",
   "execution_count": null,
   "metadata": {},
   "outputs": [],
   "source": []
  }
 ],
 "metadata": {
  "kernelspec": {
   "display_name": "Python 3",
   "language": "python",
   "name": "python3"
  },
  "language_info": {
   "codemirror_mode": {
    "name": "ipython",
    "version": 3
   },
   "file_extension": ".py",
   "mimetype": "text/x-python",
   "name": "python",
   "nbconvert_exporter": "python",
   "pygments_lexer": "ipython3",
   "version": "3.6.6"
  }
 },
 "nbformat": 4,
 "nbformat_minor": 2
}
