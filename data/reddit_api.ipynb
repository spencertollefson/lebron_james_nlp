{
 "cells": [
  {
   "cell_type": "markdown",
   "metadata": {},
   "source": [
    "# reddit.com/r/nba comments download and storage\n",
    "\n",
    "* all posts with lebron james in title?\n",
    "\n",
    "## which comments?\n",
    "\n",
    "* all comments in post?\n",
    "* all top level comments?\n",
    "* all comments above a certain upvote threshold?\n",
    "* first X top level comments or X comments above certain vote threshold\n",
    "* controversial is good too (total votes) or upvotes?"
   ]
  },
  {
   "cell_type": "code",
   "execution_count": 119,
   "metadata": {},
   "outputs": [],
   "source": [
    "import praw\n",
    "from pprint import pprint\n",
    "import pandas as pd\n",
    "import numpy as np\n",
    "import matplotlib.pyplot as plt\n",
    "import nltk\n",
    "import seaborn as sns\n",
    "sns.set(style='darkgrid', context='talk', palette='Dark2')"
   ]
  },
  {
   "cell_type": "markdown",
   "metadata": {},
   "source": [
    "## process to pull comments and concatenate into dataframe"
   ]
  },
  {
   "cell_type": "code",
   "execution_count": 126,
   "metadata": {},
   "outputs": [],
   "source": [
    "subreddit = reddit.subreddit('nfl').top(limit=10)"
   ]
  },
  {
   "cell_type": "code",
   "execution_count": 128,
   "metadata": {},
   "outputs": [
    {
     "name": "stdout",
     "output_type": "stream",
     "text": [
      "[Highlight] NO vs MIN - Diggs game-winning TD reception\n",
      "New England Patriots are the Super Bowl LI Champions\n",
      "[Highlight] Trey Burton pass to Nick Foles for the TD on 4th down\n",
      "[Highlight] Mariota catches his own deflected pass for a TD\n",
      "[OC]Which teams have fewer fans than their namesake? A study\n",
      "Browns are the first NFL team to finish 0-16 since the 2008 Lions.\n",
      "For the first time since December 2016 the Cleveland Browns have NOT lost the game! They TIE with the Steelers, 21-21\n",
      "The Dallas Cowboys Have Been Eliminated From Playoff Contention\n",
      "Stunner: Texans trade Brock Osweiler AND 2018 2nd-rd pick to CLEV for Browns to take Osweiler contract off Houston books, sources tell ESPN.\n",
      "The Buffalo Bills have clinched a playoff berth for the first time since 1999.\n"
     ]
    }
   ],
   "source": [
    "for post in subreddit:\n",
    "    print(post.title)"
   ]
  },
  {
   "cell_type": "code",
   "execution_count": 155,
   "metadata": {},
   "outputs": [
    {
     "name": "stdout",
     "output_type": "stream",
     "text": [
      "HERE BE LEBRON\n",
      "HERE BE LEBRON\n",
      "HERE BE LEBRON\n"
     ]
    }
   ],
   "source": [
    "nba_comments = set()\n",
    "\n",
    "time_stamps = []\n",
    "comment_scores = []\n",
    "\n",
    "# add another loop outside here to do this by post day\n",
    "\n",
    "count = 0 \n",
    "while count < 3:\n",
    "    for submission in reddit.subreddit('nba').top(limit=10):\n",
    "        if 'lebron' in submission.title.lower() or 'lebron james' in submission.title.lower():\n",
    "            print('HERE BE LEBRON')\n",
    "            submission.comments.replace_more(limit=5)\n",
    "            comments = submission.comments.list()[:3]\n",
    "            for comment in comments:\n",
    "    #             print(comment.body)\n",
    "    #             print('::::::::::::::')\n",
    "                nba_comments.add(comment.body)\n",
    "                time_stamps.append(comment.created_utc)\n",
    "                comment_scores.append(comment.score)\n",
    "            count += 1"
   ]
  },
  {
   "cell_type": "code",
   "execution_count": 157,
   "metadata": {},
   "outputs": [
    {
     "name": "stdout",
     "output_type": "stream",
     "text": [
      "[{'comment_text': 'Lebron to the Lakers breaking while ESPN is airing the Red Sox vs Yankees is '\n",
      "                  'ESPNs absolute fucking nightmare.',\n",
      "  'compound': 0.0,\n",
      "  'neg': 0.0,\n",
      "  'neu': 1.0,\n",
      "  'pos': 0.0},\n",
      " {'comment_text': 'lebron finally realized the best person to pass to was himself',\n",
      "  'compound': 0.6369,\n",
      "  'neg': 0.0,\n",
      "  'neu': 0.704,\n",
      "  'pos': 0.296},\n",
      " {'comment_text': 'Lebron just pulled off an All Star Game move in the NBA Finals.',\n",
      "  'compound': 0.0,\n",
      "  'neg': 0.0,\n",
      "  'neu': 1.0,\n",
      "  'pos': 0.0},\n",
      " {'comment_text': \"THIS AIN'T NBA JAM BABY \", 'compound': 0.0, 'neg': 0.0, 'neu': 1.0, 'pos': 0.0},\n",
      " {'comment_text': 'This is what men do! MEN STUFF! ',\n",
      "  'compound': 0.0,\n",
      "  'neg': 0.0,\n",
      "  'neu': 1.0,\n",
      "  'pos': 0.0}]\n"
     ]
    }
   ],
   "source": [
    "from nltk.sentiment.vader import SentimentIntensityAnalyzer as SIA\n",
    "\n",
    "sia = SIA()\n",
    "\n",
    "results = []\n",
    "\n",
    "for c in nba_comments:\n",
    "    nba_score = sia.polarity_scores(c)\n",
    "    nba_score['comment_text'] = c\n",
    "    results.append(nba_score)\n",
    "    \n",
    "pprint(results[:5], width=100)"
   ]
  },
  {
   "cell_type": "code",
   "execution_count": 121,
   "metadata": {},
   "outputs": [],
   "source": [
    "df = pd.DataFrame.from_records(results)\n",
    "\n",
    "df.loc[df['compound'] > 0.2, 'label'] = 1\n",
    "df.loc[df['compound'] < -0.2, 'label'] = -1\n",
    "\n",
    "df2 = df[['comment', 'label']]\n",
    "# df2.to_csv('reddit_nba_lebron_sa.csv', mode='a', encoding='utf-8', index=False)\n",
    "\n",
    "print(\"Positive headlines:\\n\")\n",
    "pprint(list(df[df['label'] == 1].headline)[:5], width=200)\n",
    "\n",
    "print(\"Negative headlines:\\n\")\n",
    "pprint(list(df[df['label'] == -1].headline)[:5], width=200)\n",
    "\n",
    "print('\\niValue counts:')\n",
    "print(df.label.value_counts())\n",
    "print('\\nProportion of value counts:')\n",
    "print(df.label.value_counts(normalize=True) * 100)"
   ]
  },
  {
   "cell_type": "code",
   "execution_count": 121,
   "metadata": {},
   "outputs": [
    {
     "name": "stdout",
     "output_type": "stream",
     "text": [
      "[{'compound': 0.0,\n",
      "  'headline': 'MJ never tossed an oop to himself in an elimination game in the NBA finals ',\n",
      "  'neg': 0.0,\n",
      "  'neu': 1.0,\n",
      "  'pos': 0.0},\n",
      " {'compound': 0.0,\n",
      "  'headline': \"It's not about going to the Warriors. It's about *the implication* of going to the \"\n",
      "              'Warriors',\n",
      "  'neg': 0.0,\n",
      "  'neu': 1.0,\n",
      "  'pos': 0.0},\n",
      " {'compound': 0.0, 'headline': 'UH OH ', 'neg': 0.0, 'neu': 1.0, 'pos': 0.0}]\n",
      "Positive headlines:\n",
      "\n",
      "['First thought was Lebron bby what is u doing \\n\\nthen OH. MY. GOD \\n',\n",
      " '**THE EASTERN CONFERENCE HAS BEEN ELIMINATED FROM CHAMPIONSHIP CONTENTION**',\n",
      " 'lebron finally realized the best person to pass to was himself',\n",
      " '\"And you set it up so you can get these teams back at any time huh?\"\\n'\n",
      " '\\n'\n",
      " '\"That\\'s exactly right Kevin, you are really pickin up on this. i\\'m proud of ya\"\\n'\n",
      " '\\n'\n",
      " '\"Ok there is no way that team is gonna come back to you after what you just put them through\"\\n'\n",
      " '\\n'\n",
      " '\"Oh i could absolutely get that team back any time i want, i just choose not to\"\\n'\n",
      " '\\n'\n",
      " '\"I one hundred percent guarantee you this team is finished with you\"\\n'\n",
      " '\\n'\n",
      " '\"Well, i take that as challenge r/nba an i accept that challenge, i\\'ll have that team back by the end of my contract\"\\n'\n",
      " '\\n'\n",
      " '\"Yeah r/nba, you just don\\'t get it, this is what stars do. THIS IS WHAT STARS DO\" \\n'\n",
      " '\\n'\n",
      " '\"THIS IS BANANA BOAT STUFF\"\\n',\n",
      " 'IN THE MIDDLE OF AN ELIMINATION GAME.  GOOD GOD']\n",
      "Negative headlines:\n",
      "\n",
      "['#WHAT THE FUCK',\n",
      " 'Damn. The D.E.N.N.I.S. System (S5E10) aired on November 19, 2009. LeBron left Cleveland THE FOLLOWING OFFSEASON.\\n\\nThis was the plan all along.',\n",
      " 'The mad man actually did it wtf']\n",
      "\n",
      "iValue counts:\n",
      " 1.0    9\n",
      "-1.0    3\n",
      "Name: label, dtype: int64\n",
      "\n",
      "Proportion of value counts:\n",
      " 1.0    75.0\n",
      "-1.0    25.0\n",
      "Name: label, dtype: float64\n"
     ]
    },
    {
     "ename": "AttributeError",
     "evalue": "module 'matplotlib.pyplot' has no attribute 'tite'",
     "output_type": "error",
     "traceback": [
      "\u001b[0;31m---------------------------------------------------------------------------\u001b[0m",
      "\u001b[0;31mAttributeError\u001b[0m                            Traceback (most recent call last)",
      "\u001b[0;32m<ipython-input-121-18e485c91ef2>\u001b[0m in \u001b[0;36m<module>\u001b[0;34m()\u001b[0m\n\u001b[1;32m     51\u001b[0m \u001b[0max\u001b[0m\u001b[0;34m.\u001b[0m\u001b[0mset_ylabel\u001b[0m\u001b[0;34m(\u001b[0m\u001b[0;34m'Percentage'\u001b[0m\u001b[0;34m)\u001b[0m\u001b[0;34m\u001b[0m\u001b[0m\n\u001b[1;32m     52\u001b[0m \u001b[0;34m\u001b[0m\u001b[0m\n\u001b[0;32m---> 53\u001b[0;31m \u001b[0mplt\u001b[0m\u001b[0;34m.\u001b[0m\u001b[0mtite\u001b[0m\u001b[0;34m(\u001b[0m\u001b[0;34m'NBA Comments'\u001b[0m\u001b[0;34m)\u001b[0m\u001b[0;34m\u001b[0m\u001b[0m\n\u001b[0m\u001b[1;32m     54\u001b[0m \u001b[0;34m\u001b[0m\u001b[0m\n\u001b[1;32m     55\u001b[0m \u001b[0mplt\u001b[0m\u001b[0;34m.\u001b[0m\u001b[0mshow\u001b[0m\u001b[0;34m(\u001b[0m\u001b[0;34m)\u001b[0m\u001b[0;34m;\u001b[0m\u001b[0;34m\u001b[0m\u001b[0m\n",
      "\u001b[0;31mAttributeError\u001b[0m: module 'matplotlib.pyplot' has no attribute 'tite'"
     ]
    },
    {
     "data": {
      "image/png": "[encoded data removed]",
      "text/plain": [
       "<Figure size 576x576 with 1 Axes>"
      ]
     },
     "metadata": {},
     "output_type": "display_data"
    }
   ],
   "source": [
    "fig, ax = plt.subplots(figsize = (8,8))\n",
    "\n",
    "counts = df.label.value_counts(normalize = True) * 100\n",
    "\n",
    "sns.barplot(x=counts.index, y=counts, ax=ax)\n",
    "\n",
    "ax.set_xticklabels(['Negative', 'Neutral', 'Positive'])\n",
    "ax.set_ylabel('Percentage')\n",
    "\n",
    "plt.title('NBA Comments')\n",
    "\n",
    "plt.show();"
   ]
  },
  {
   "cell_type": "code",
   "execution_count": null,
   "metadata": {},
   "outputs": [],
   "source": []
  },
  {
   "cell_type": "code",
   "execution_count": null,
   "metadata": {},
   "outputs": [],
   "source": []
  },
  {
   "cell_type": "code",
   "execution_count": 110,
   "metadata": {},
   "outputs": [],
   "source": [
    "reddit = praw.Reddit('bot1', user_agent='bot1 user agent')"
   ]
  },
  {
   "cell_type": "code",
   "execution_count": 111,
   "metadata": {},
   "outputs": [],
   "source": [
    "reddit.read_only = True"
   ]
  },
  {
   "cell_type": "code",
   "execution_count": 112,
   "metadata": {},
   "outputs": [
    {
     "name": "stdout",
     "output_type": "stream",
     "text": [
      "True\n"
     ]
    }
   ],
   "source": [
    "print(reddit.read_only)"
   ]
  },
  {
   "cell_type": "code",
   "execution_count": 113,
   "metadata": {},
   "outputs": [],
   "source": [
    "subreddit = reddit.subreddit('nba')"
   ]
  },
  {
   "cell_type": "code",
   "execution_count": 114,
   "metadata": {},
   "outputs": [
    {
     "name": "stdout",
     "output_type": "stream",
     "text": [
      "nba\n",
      "NBA\n"
     ]
    }
   ],
   "source": [
    "print(subreddit.display_name)  # Output: redditdev\n",
    "print(subreddit.title)         # Output: reddit Development\n",
    "#print(subreddit.description)   # Output: A subreddit for discussion of ..."
   ]
  },
  {
   "cell_type": "code",
   "execution_count": null,
   "metadata": {},
   "outputs": [],
   "source": [
    "submission.comments.replace_more(limit=0)\n",
    "for top_level_comment in submission.comments[:15]:\n",
    "    print(top_level_comment.body)\n",
    "    print('-----------')"
   ]
  },
  {
   "cell_type": "code",
   "execution_count": 115,
   "metadata": {},
   "outputs": [
    {
     "name": "stdout",
     "output_type": "stream",
     "text": [
      "TITLE:::: r/NBA Game Threads Index + Daily Discussion (November 04, 2018)\n",
      "score:::: 38\n",
      "ID:::: 9u3yzn\n",
      "URL:::: https://www.reddit.com/r/nba/comments/9u3yzn/rnba_game_threads_index_daily_discussion_november/\n",
      "\n",
      "\n",
      "TITLE:::: Nikola Jokic on Wendell Carter Jr. , “ No Homo but he’s longer than you expect.”\n",
      "score:::: 5269\n",
      "ID:::: 9u5u9t\n",
      "URL:::: https://www.reddit.com/r/nba/comments/9u5u9t/nikola_jokic_on_wendell_carter_jr_no_homo_but_hes/\n",
      "\n",
      "\n",
      "TITLE:::: Giannis Antetokounmpo puts the \"freak\" in Greek Freak on this 1 handed hook dunk\n",
      "score:::: 1498\n",
      "ID:::: 9u7nek\n",
      "URL:::: https://streamable.com/5bbgh\n",
      "\n",
      "\n",
      "TITLE:::: Bucks fan names 27 different types of cheese in 30 seconds.\n",
      "score:::: 1179\n",
      "ID:::: 9u7aco\n",
      "URL:::: https://streamable.com/k4b1a\n",
      "\n",
      "\n",
      "TITLE:::: [Vardon] Things are even worse on the Cavaliers than they seem. Vets expect to be traded. Growing disillusionment with Collin Sexton. Mixed messages from management. Players backing Drew’s contract request.\n",
      "score:::: 4166\n",
      "ID:::: 9u3a98\n",
      "URL:::: https://twitter.com/joevardon/status/1059070232164253697\n",
      "\n",
      "\n"
     ]
    }
   ],
   "source": [
    "for submission in subreddit.hot(limit=5):\n",
    "    print('TITLE::::',submission.title)  # Output: the submission's title\n",
    "    print('score::::',submission.score)  # Output: the submission's score\n",
    "    print('ID::::',submission.id)     # Output: the submission's ID\n",
    "    print('URL::::',submission.url)    # Output: the URL the submission points to\n",
    "                             # or the submission's URL if it's a self post\n",
    "    print('\\n')"
   ]
  },
  {
   "cell_type": "code",
   "execution_count": 56,
   "metadata": {},
   "outputs": [],
   "source": [
    "# assume you have a Reddit instance bound to variable `reddit`\n",
    "top_level_comments = list(submission.comments)\n",
    "# all_comments = submission.comments.list()"
   ]
  },
  {
   "cell_type": "code",
   "execution_count": 58,
   "metadata": {},
   "outputs": [
    {
     "data": {
      "text/plain": [
       "'5 years, 35 mill HMMMM'"
      ]
     },
     "execution_count": 58,
     "metadata": {},
     "output_type": "execute_result"
    }
   ],
   "source": [
    "top_level_comments[0].body"
   ]
  },
  {
   "cell_type": "code",
   "execution_count": 59,
   "metadata": {},
   "outputs": [
    {
     "name": "stdout",
     "output_type": "stream",
     "text": [
      "243\n",
      "'5 years, 35 mill HMMMM'\n",
      ":::::::::::::::\n",
      "160\n",
      "('Brooks makes too much money for the owner to fire him with so many years '\n",
      " 'left . More likely that they trade some players.')\n",
      ":::::::::::::::\n",
      "91\n",
      "'The media just gunna keep asking until the answer becomes yes'\n",
      ":::::::::::::::\n",
      "64\n",
      "'Dwight Howard please save these cats'\n",
      ":::::::::::::::\n",
      "99\n",
      "('Please note that the owner let the coach who won the Stanley fucking cup '\n",
      " 'walk this offseason but won’t fire Scott brooks \\n'\n",
      " '\\n'\n",
      " 'I need to move to another media footprint I’m so tired of dc sports ')\n",
      ":::::::::::::::\n",
      "12\n",
      "('so what? we need a front office change. this has become a taboo subject for '\n",
      " 'the local and national media and it makes no fucking sense')\n",
      ":::::::::::::::\n",
      "19\n",
      "'Would Wizards fans rather have Ty Lue or Scott Brooks?'\n",
      ":::::::::::::::\n",
      "15\n",
      "'what the actual fuck'\n",
      ":::::::::::::::\n",
      "3\n",
      "('[An inside look at '\n",
      " 'Washington](https://i.kym-cdn.com/photos/images/newsfeed/000/962/640/658.png)')\n",
      ":::::::::::::::\n",
      "57\n",
      "'Imagine paying John Wall 40 million a year for the next 4 years LMAO '\n",
      ":::::::::::::::\n"
     ]
    }
   ],
   "source": [
    "for c in top_level_comments[:10]:\n",
    "    pprint.pprint(c.score)\n",
    "\n",
    "    pprint.pprint(c.body)\n",
    "    print(':::::::::::::::')"
   ]
  },
  {
   "cell_type": "code",
   "execution_count": 42,
   "metadata": {},
   "outputs": [
    {
     "name": "stdout",
     "output_type": "stream",
     "text": [
      "{'_fetched': True,\n",
      " '_info_params': {},\n",
      " '_mod': None,\n",
      " '_reddit': <praw.reddit.Reddit object at 0x7efc67d8f668>,\n",
      " '_replies': <praw.models.comment_forest.CommentForest object at 0x7efc674da860>,\n",
      " '_submission': Submission(id='9tjm1c'),\n",
      " 'approved_at_utc': None,\n",
      " 'approved_by': None,\n",
      " 'archived': False,\n",
      " 'author': Redditor(name='Mr_E_Nigma_Solver'),\n",
      " 'author_flair_background_color': '',\n",
      " 'author_flair_css_class': 'Knicks5',\n",
      " 'author_flair_richtext': [],\n",
      " 'author_flair_template_id': 'd66cc3a2-3feb-11e8-a1b1-0ea4bf1137fc',\n",
      " 'author_flair_text': 'Knicks',\n",
      " 'author_flair_text_color': 'dark',\n",
      " 'author_flair_type': 'text',\n",
      " 'author_fullname': 't2_hf0ao',\n",
      " 'author_patreon_flair': False,\n",
      " 'banned_at_utc': None,\n",
      " 'banned_by': None,\n",
      " 'body': \"It's really fun to see the Kings doing good, and being good. \",\n",
      " 'body_html': '<div class=\"md\"><p>It&#39;s really fun to see the Kings doing '\n",
      "              'good, and being good. </p>\\n'\n",
      "              '</div>',\n",
      " 'can_gild': True,\n",
      " 'can_mod_post': False,\n",
      " 'collapsed': False,\n",
      " 'collapsed_reason': None,\n",
      " 'controversiality': 0,\n",
      " 'created': 1541190558.0,\n",
      " 'created_utc': 1541161758.0,\n",
      " 'depth': 0,\n",
      " 'distinguished': None,\n",
      " 'downs': 0,\n",
      " 'edited': False,\n",
      " 'gilded': 0,\n",
      " 'gildings': {'gid_1': 0, 'gid_2': 0, 'gid_3': 0},\n",
      " 'id': 'e8wpc57',\n",
      " 'is_submitter': False,\n",
      " 'likes': None,\n",
      " 'link_id': 't3_9tjm1c',\n",
      " 'mod_note': None,\n",
      " 'mod_reason_by': None,\n",
      " 'mod_reason_title': None,\n",
      " 'mod_reports': [],\n",
      " 'name': 't1_e8wpc57',\n",
      " 'no_follow': False,\n",
      " 'num_reports': None,\n",
      " 'parent_id': 't3_9tjm1c',\n",
      " 'permalink': '/r/nba/comments/9tjm1c/the_nemanja_bjelica_effect_is_real_sacramento_is/e8wpc57/',\n",
      " 'removal_reason': None,\n",
      " 'report_reasons': None,\n",
      " 'saved': False,\n",
      " 'score': 168,\n",
      " 'score_hidden': False,\n",
      " 'send_replies': True,\n",
      " 'stickied': False,\n",
      " 'subreddit': Subreddit(display_name='nba'),\n",
      " 'subreddit_id': 't5_2qo4s',\n",
      " 'subreddit_name_prefixed': 'r/nba',\n",
      " 'subreddit_type': 'public',\n",
      " 'ups': 168,\n",
      " 'user_reports': []}\n"
     ]
    }
   ],
   "source": [
    "pprint.pprint(vars(top_level_comments[0]))"
   ]
  },
  {
   "cell_type": "code",
   "execution_count": 70,
   "metadata": {},
   "outputs": [
    {
     "data": {
      "text/plain": [
       "10"
      ]
     },
     "execution_count": 70,
     "metadata": {},
     "output_type": "execute_result"
    }
   ],
   "source": [
    "def add_up_range(n):\n",
    "    result = 0\n",
    "    for i in range(n+1):\n",
    "        result+= i\n",
    "    return result\n",
    "add_up_range(4)"
   ]
  },
  {
   "cell_type": "code",
   "execution_count": 83,
   "metadata": {},
   "outputs": [
    {
     "data": {
      "text/plain": [
       "3"
      ]
     },
     "execution_count": 83,
     "metadata": {},
     "output_type": "execute_result"
    }
   ],
   "source": [
    "cat = list(range(5))\n",
    "cat.append(3)\n",
    "cat.index(3)"
   ]
  },
  {
   "cell_type": "code",
   "execution_count": 79,
   "metadata": {},
   "outputs": [
    {
     "ename": "SyntaxError",
     "evalue": "invalid syntax (<ipython-input-79-6bca17dec0c9>, line 7)",
     "output_type": "error",
     "traceback": [
      "\u001b[0;36m  File \u001b[0;32m\"<ipython-input-79-6bca17dec0c9>\"\u001b[0;36m, line \u001b[0;32m7\u001b[0m\n\u001b[0;31m    n_range.del(n_r)\u001b[0m\n\u001b[0m              ^\u001b[0m\n\u001b[0;31mSyntaxError\u001b[0m\u001b[0;31m:\u001b[0m invalid syntax\n"
     ]
    }
   ],
   "source": [
    "def first_and_last_add_up_range(n):\n",
    "    n_range = list(range(n+1))\n",
    "    result = 0\n",
    "    while len(n_range) > 0:\n",
    "        result += n_range[0]\n",
    "        result += n_range[-1]\n",
    "        n_range.del(n_r)\n",
    "        n_range.del(-1)\n",
    "    return result\n",
    "first_and_last_add_up_range(4)"
   ]
  },
  {
   "cell_type": "code",
   "execution_count": null,
   "metadata": {},
   "outputs": [],
   "source": []
  }
 ],
 "metadata": {
  "kernelspec": {
   "display_name": "Python 3",
   "language": "python",
   "name": "python3"
  },
  "language_info": {
   "codemirror_mode": {
    "name": "ipython",
    "version": 3
   },
   "file_extension": ".py",
   "mimetype": "text/x-python",
   "name": "python",
   "nbconvert_exporter": "python",
   "pygments_lexer": "ipython3",
   "version": "3.6.6"
  }
 },
 "nbformat": 4,
 "nbformat_minor": 2
}
